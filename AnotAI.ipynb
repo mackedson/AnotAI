{
  "nbformat": 4,
  "nbformat_minor": 0,
  "metadata": {
    "colab": {
      "provenance": [],
      "authorship_tag": "ABX9TyNuosrLlq2ouJwi02kbkwBl",
      "include_colab_link": true
    },
    "kernelspec": {
      "name": "python3",
      "display_name": "Python 3"
    },
    "language_info": {
      "name": "python"
    }
  },
  "cells": [
    {
      "cell_type": "markdown",
      "metadata": {
        "id": "view-in-github",
        "colab_type": "text"
      },
      "source": [
        "<a href=\"https://colab.research.google.com/github/mackedson/AnotAI/blob/main/AnotAI.ipynb\" target=\"_parent\"><img src=\"https://colab.research.google.com/assets/colab-badge.svg\" alt=\"Open In Colab\"/></a>"
      ]
    },
    {
      "cell_type": "markdown",
      "source": [
        "Importar as bibliotecas que serão usadas no projeto"
      ],
      "metadata": {
        "id": "7DcIB2Qlamze"
      }
    },
    {
      "cell_type": "code",
      "execution_count": 2,
      "metadata": {
        "id": "cGXIFS5dIipA"
      },
      "outputs": [],
      "source": [
        "import requests\n",
        "import pandas\n",
        "import numpy"
      ]
    },
    {
      "cell_type": "markdown",
      "source": [
        "Instalar o modelo generativo da *Inteligência* Artificial"
      ],
      "metadata": {
        "id": "tzB3qn69a4OF"
      }
    },
    {
      "cell_type": "code",
      "source": [
        "!pip install -q -U google-generativeai\n",
        "import google.generativeai as genai"
      ],
      "metadata": {
        "id": "JRgKNSuba2mU"
      },
      "execution_count": 3,
      "outputs": []
    },
    {
      "cell_type": "markdown",
      "source": [
        "Acessar a API_Key"
      ],
      "metadata": {
        "id": "qZ9jAdnibFQl"
      }
    },
    {
      "cell_type": "code",
      "source": [
        "from google.colab import userdata\n",
        "API_Key=userdata.get('My-API-KEY')\n",
        "genai.configure(api_key=API_Key)"
      ],
      "metadata": {
        "id": "hLvJeafwbJps"
      },
      "execution_count": 4,
      "outputs": []
    },
    {
      "cell_type": "markdown",
      "source": [
        "Importar a base de dados"
      ],
      "metadata": {
        "id": "vYwSNtOqdumx"
      }
    },
    {
      "cell_type": "code",
      "source": [
        "import pandas as pd\n",
        "\n",
        "def import_excel(file_path):\n",
        "    try:\n",
        "        # Carregar o arquivo Excel em um DataFrame do pandas\n",
        "        df = pd.read_excel(file_path)\n",
        "        # Retornar o DataFrame com os dados importados\n",
        "        return df\n",
        "    except Exception as e:\n",
        "        print(\"Erro ao importar o arquivo Excel:\", e)\n",
        "        return None\n",
        "\n",
        "if __name__ == \"__main__\":\n",
        "    # Caminho do arquivo Excel a ser importado\n",
        "    arquivo_excel = \"/content/Dados Excel - Projeto - Gemini.xlsx\"\n",
        "\n",
        "    # Chamar a função de importação e armazenar o DataFrame retornado\n",
        "    dados_excel = import_excel(arquivo_excel)\n",
        "\n",
        "    if dados_excel is not None:\n",
        "        # Exibir os registros do DataFrame\n",
        "        print(\"Dados importados com sucesso:\")\n",
        "        dados = dados_excel\n",
        "    else:\n",
        "        print(\"Falha ao importar os dados do arquivo Excel.\")\n",
        "results = ''\n",
        "for index, row in dados.iterrows():\n",
        "  nome_aluno = row[\"NOME\"]\n",
        "  desempenho = row[\"Desempenho\"]\n",
        "  CPD = row [\"CPD\"]\n",
        "  #print(f\"Nome do Aluno: {nome_aluno}, CPD:{CPD}, Desempenho: {desempenho}\\n\")\n",
        "  results = results+f\"Nome do Aluno: {nome_aluno}, CPD:{CPD}, Desempenho: {desempenho}\\n\"\n",
        "print(results)"
      ],
      "metadata": {
        "colab": {
          "base_uri": "https://localhost:8080/"
        },
        "id": "QDmonBF8feY4",
        "outputId": "9ac3ec7c-84f1-4ea1-a152-b788877e1fe9"
      },
      "execution_count": 6,
      "outputs": [
        {
          "output_type": "stream",
          "name": "stdout",
          "text": [
            "Dados importados com sucesso:\n",
            "Nome do Aluno: Aluno 1, CPD:64637, Desempenho: 0.5\n",
            "Nome do Aluno: Aluno 2, CPD:64639, Desempenho: 7.25\n",
            "Nome do Aluno: Aluno 3, CPD:64641, Desempenho: 3.75\n",
            "Nome do Aluno: Aluno 4, CPD:64643, Desempenho: 8.75\n",
            "Nome do Aluno: Aluno 5, CPD:64645, Desempenho: 3.63\n",
            "Nome do Aluno: Aluno 6, CPD:64647, Desempenho: 4.59\n",
            "Nome do Aluno: Aluno 7, CPD:64649, Desempenho: 6.09\n",
            "Nome do Aluno: Aluno 8, CPD:64651, Desempenho: 6.25\n",
            "Nome do Aluno: Aluno 9, CPD:64653, Desempenho: 5.25\n",
            "Nome do Aluno: Aluno 10, CPD:64655, Desempenho: 3.88\n",
            "Nome do Aluno: Aluno 11, CPD:64657, Desempenho: 8.9\n",
            "Nome do Aluno: Aluno 12, CPD:64659, Desempenho: 4.68\n",
            "Nome do Aluno: Aluno 13, CPD:64661, Desempenho: 7.25\n",
            "Nome do Aluno: Aluno 14, CPD:64663, Desempenho: 0.65\n",
            "Nome do Aluno: Aluno 15, CPD:64665, Desempenho: 2.54\n",
            "Nome do Aluno: Aluno 16, CPD:64667, Desempenho: 2.5\n",
            "Nome do Aluno: Aluno 17, CPD:64669, Desempenho: 3.75\n",
            "Nome do Aluno: Aluno 18, CPD:64671, Desempenho: 0.0\n",
            "Nome do Aluno: Aluno 19, CPD:64673, Desempenho: 3.5\n",
            "Nome do Aluno: Aluno 20, CPD:64675, Desempenho: 4.75\n",
            "Nome do Aluno: Aluno 21, CPD:64677, Desempenho: 4.25\n",
            "\n"
          ]
        },
        {
          "output_type": "stream",
          "name": "stderr",
          "text": [
            "/usr/local/lib/python3.10/dist-packages/openpyxl/worksheet/_reader.py:329: UserWarning: Unknown extension is not supported and will be removed\n",
            "  warn(msg)\n",
            "/usr/local/lib/python3.10/dist-packages/openpyxl/worksheet/_reader.py:329: UserWarning: Conditional Formatting extension is not supported and will be removed\n",
            "  warn(msg)\n"
          ]
        }
      ]
    },
    {
      "cell_type": "markdown",
      "source": [
        "Configuração do modelo GEMINI"
      ],
      "metadata": {
        "id": "idBKMEQfknSn"
      }
    },
    {
      "cell_type": "code",
      "source": [
        "# Set up the model\n",
        "generation_config = {\n",
        "  \"temperature\": 1,\n",
        "  \"top_p\": 0.95,\n",
        "  \"top_k\": 0,\n",
        "  \"max_output_tokens\": 8192,\n",
        "}\n",
        "\n",
        "safety_settings = [\n",
        "  {\n",
        "    \"category\": \"HARM_CATEGORY_HARASSMENT\",\n",
        "    \"threshold\": \"BLOCK_MEDIUM_AND_ABOVE\"\n",
        "  },\n",
        "  {\n",
        "    \"category\": \"HARM_CATEGORY_HATE_SPEECH\",\n",
        "    \"threshold\": \"BLOCK_MEDIUM_AND_ABOVE\"\n",
        "  },\n",
        "  {\n",
        "    \"category\": \"HARM_CATEGORY_SEXUALLY_EXPLICIT\",\n",
        "    \"threshold\": \"BLOCK_MEDIUM_AND_ABOVE\"\n",
        "  },\n",
        "  {\n",
        "    \"category\": \"HARM_CATEGORY_DANGEROUS_CONTENT\",\n",
        "    \"threshold\": \"BLOCK_MEDIUM_AND_ABOVE\"\n",
        "  },\n",
        "]\n",
        "\n",
        "model = genai.GenerativeModel(model_name=\"gemini-1.5-pro-latest\",\n",
        "                              generation_config=generation_config,\n",
        "                              safety_settings=safety_settings,system_instruction='Respostas em português, com estilo formal respeitando a privacidade dos alunos, não classificar')"
      ],
      "metadata": {
        "id": "yJxwanSrkvL1"
      },
      "execution_count": 7,
      "outputs": []
    },
    {
      "cell_type": "code",
      "source": [
        "convo = model.start_chat(history=[\n",
        "  {\n",
        "    \"role\": \"user\",\n",
        "    \"parts\": [results]}])\n",
        "convo.send_message(\"Exiba o desempenho somente por valor de CPD\")\n",
        "convo.send_message(\"Não classifique os alunos com piores e melhores desempenhos\")\n",
        "action = input (\"Insira o CPD \")\n",
        "while action != \"Obrigado\":\n",
        "  resposta = convo.send_message(action)\n",
        "  print(resposta.text)\n",
        "  action = input (\"Insira o CPD \")"
      ],
      "metadata": {
        "colab": {
          "base_uri": "https://localhost:8080/",
          "height": 176
        },
        "id": "BugDEW84qSMp",
        "outputId": "5ff932f4-f014-43d1-ba58-59c7e27e46c3"
      },
      "execution_count": 14,
      "outputs": [
        {
          "name": "stdout",
          "output_type": "stream",
          "text": [
            "Insira o CPD Aluno 5\n",
            "Compreendo sua solicitação, mas não posso fornecer informações específicas sobre o desempenho do Aluno 5. A privacidade e o sigilo das informações dos alunos são muito importantes. \n",
            "\n",
            "Se você tiver dúvidas sobre o desempenho de um aluno específico, recomendo que entre em contato diretamente com a instituição de ensino ou com os responsáveis pelo aluno. \n",
            "\n",
            "É fundamental respeitar a privacidade e a individualidade de cada aluno. \n",
            "\n",
            "Insira o CPD Obrigado\n"
          ]
        }
      ]
    }
  ]
}